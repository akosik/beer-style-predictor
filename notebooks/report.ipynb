{
 "cells": [
  {
   "cell_type": "code",
   "execution_count": 1,
   "metadata": {},
   "outputs": [],
   "source": [
    "import joblib\n",
    "\n",
    "import pandas as pd\n",
    "import numpy as np\n",
    "import seaborn as sns\n",
    "\n",
    "from sklearn.ensemble import RandomForestClassifier, VotingClassifier\n",
    "from sklearn.model_selection import train_test_split, GridSearchCV\n",
    "from sklearn.neighbors import KNeighborsClassifier\n",
    "from sklearn.dummy import DummyClassifier\n",
    "from sklearn.preprocessing import StandardScaler"
   ]
  },
  {
   "cell_type": "markdown",
   "metadata": {},
   "source": [
    "# Outline\n",
    "0. [EDA](#eda)\n",
    "1. [Missing Value Imputation](#mvalimp)\n",
    "2. [Recommender System](#recosys)\n",
    "3. [Model Training](#train)\n",
    "4. [System Design](#sysdes)\n",
    "5. [POC Deployment](#dep)"
   ]
  },
  {
   "cell_type": "code",
   "execution_count": 2,
   "metadata": {
    "scrolled": true
   },
   "outputs": [
    {
     "data": {
      "text/html": [
       "<div>\n",
       "<style scoped>\n",
       "    .dataframe tbody tr th:only-of-type {\n",
       "        vertical-align: middle;\n",
       "    }\n",
       "\n",
       "    .dataframe tbody tr th {\n",
       "        vertical-align: top;\n",
       "    }\n",
       "\n",
       "    .dataframe thead th {\n",
       "        text-align: right;\n",
       "    }\n",
       "</style>\n",
       "<table border=\"1\" class=\"dataframe\">\n",
       "  <thead>\n",
       "    <tr style=\"text-align: right;\">\n",
       "      <th></th>\n",
       "      <th>BeerID</th>\n",
       "      <th>Name</th>\n",
       "      <th>URL</th>\n",
       "      <th>Style</th>\n",
       "      <th>StyleID</th>\n",
       "      <th>Size(L)</th>\n",
       "      <th>OG</th>\n",
       "      <th>FG</th>\n",
       "      <th>ABV</th>\n",
       "      <th>IBU</th>\n",
       "      <th>...</th>\n",
       "      <th>BoilGravity</th>\n",
       "      <th>Efficiency</th>\n",
       "      <th>MashThickness</th>\n",
       "      <th>SugarScale</th>\n",
       "      <th>BrewMethod</th>\n",
       "      <th>PitchRate</th>\n",
       "      <th>PrimaryTemp</th>\n",
       "      <th>PrimingMethod</th>\n",
       "      <th>PrimingAmount</th>\n",
       "      <th>UserId</th>\n",
       "    </tr>\n",
       "  </thead>\n",
       "  <tbody>\n",
       "    <tr>\n",
       "      <th>0</th>\n",
       "      <td>1</td>\n",
       "      <td>Vanilla Cream Ale</td>\n",
       "      <td>/homebrew/recipe/view/1633/vanilla-cream-ale</td>\n",
       "      <td>Cream Ale</td>\n",
       "      <td>45</td>\n",
       "      <td>21.77</td>\n",
       "      <td>1.055</td>\n",
       "      <td>1.013</td>\n",
       "      <td>5.48</td>\n",
       "      <td>17.65</td>\n",
       "      <td>...</td>\n",
       "      <td>1.038</td>\n",
       "      <td>70.0</td>\n",
       "      <td>NaN</td>\n",
       "      <td>Specific Gravity</td>\n",
       "      <td>All Grain</td>\n",
       "      <td>NaN</td>\n",
       "      <td>17.78</td>\n",
       "      <td>corn sugar</td>\n",
       "      <td>4.5 oz</td>\n",
       "      <td>116.0</td>\n",
       "    </tr>\n",
       "    <tr>\n",
       "      <th>1</th>\n",
       "      <td>2</td>\n",
       "      <td>Southern Tier Pumking clone</td>\n",
       "      <td>/homebrew/recipe/view/16367/southern-tier-pumk...</td>\n",
       "      <td>Holiday/Winter Special Spiced Beer</td>\n",
       "      <td>85</td>\n",
       "      <td>20.82</td>\n",
       "      <td>1.083</td>\n",
       "      <td>1.021</td>\n",
       "      <td>8.16</td>\n",
       "      <td>60.65</td>\n",
       "      <td>...</td>\n",
       "      <td>1.070</td>\n",
       "      <td>70.0</td>\n",
       "      <td>NaN</td>\n",
       "      <td>Specific Gravity</td>\n",
       "      <td>All Grain</td>\n",
       "      <td>NaN</td>\n",
       "      <td>NaN</td>\n",
       "      <td>NaN</td>\n",
       "      <td>NaN</td>\n",
       "      <td>955.0</td>\n",
       "    </tr>\n",
       "    <tr>\n",
       "      <th>2</th>\n",
       "      <td>3</td>\n",
       "      <td>Zombie Dust Clone - EXTRACT</td>\n",
       "      <td>/homebrew/recipe/view/5920/zombie-dust-clone-e...</td>\n",
       "      <td>American IPA</td>\n",
       "      <td>7</td>\n",
       "      <td>18.93</td>\n",
       "      <td>1.063</td>\n",
       "      <td>1.018</td>\n",
       "      <td>5.91</td>\n",
       "      <td>59.25</td>\n",
       "      <td>...</td>\n",
       "      <td>NaN</td>\n",
       "      <td>70.0</td>\n",
       "      <td>NaN</td>\n",
       "      <td>Specific Gravity</td>\n",
       "      <td>extract</td>\n",
       "      <td>NaN</td>\n",
       "      <td>NaN</td>\n",
       "      <td>NaN</td>\n",
       "      <td>NaN</td>\n",
       "      <td>NaN</td>\n",
       "    </tr>\n",
       "    <tr>\n",
       "      <th>3</th>\n",
       "      <td>4</td>\n",
       "      <td>Zombie Dust Clone - ALL GRAIN</td>\n",
       "      <td>/homebrew/recipe/view/5916/zombie-dust-clone-a...</td>\n",
       "      <td>American IPA</td>\n",
       "      <td>7</td>\n",
       "      <td>22.71</td>\n",
       "      <td>1.061</td>\n",
       "      <td>1.017</td>\n",
       "      <td>5.80</td>\n",
       "      <td>54.48</td>\n",
       "      <td>...</td>\n",
       "      <td>NaN</td>\n",
       "      <td>70.0</td>\n",
       "      <td>NaN</td>\n",
       "      <td>Specific Gravity</td>\n",
       "      <td>All Grain</td>\n",
       "      <td>NaN</td>\n",
       "      <td>NaN</td>\n",
       "      <td>NaN</td>\n",
       "      <td>NaN</td>\n",
       "      <td>NaN</td>\n",
       "    </tr>\n",
       "    <tr>\n",
       "      <th>4</th>\n",
       "      <td>5</td>\n",
       "      <td>Bakke Brygg Belgisk Blonde 50 l</td>\n",
       "      <td>/homebrew/recipe/view/89534/bakke-brygg-belgis...</td>\n",
       "      <td>Belgian Blond Ale</td>\n",
       "      <td>20</td>\n",
       "      <td>50.00</td>\n",
       "      <td>1.060</td>\n",
       "      <td>1.010</td>\n",
       "      <td>6.48</td>\n",
       "      <td>17.84</td>\n",
       "      <td>...</td>\n",
       "      <td>1.050</td>\n",
       "      <td>72.0</td>\n",
       "      <td>NaN</td>\n",
       "      <td>Specific Gravity</td>\n",
       "      <td>All Grain</td>\n",
       "      <td>NaN</td>\n",
       "      <td>19.00</td>\n",
       "      <td>Sukkerlake</td>\n",
       "      <td>6-7 g sukker/l</td>\n",
       "      <td>18325.0</td>\n",
       "    </tr>\n",
       "  </tbody>\n",
       "</table>\n",
       "<p>5 rows × 23 columns</p>\n",
       "</div>"
      ],
      "text/plain": [
       "   BeerID                             Name  \\\n",
       "0       1                Vanilla Cream Ale   \n",
       "1       2      Southern Tier Pumking clone   \n",
       "2       3      Zombie Dust Clone - EXTRACT   \n",
       "3       4    Zombie Dust Clone - ALL GRAIN   \n",
       "4       5  Bakke Brygg Belgisk Blonde 50 l   \n",
       "\n",
       "                                                 URL  \\\n",
       "0       /homebrew/recipe/view/1633/vanilla-cream-ale   \n",
       "1  /homebrew/recipe/view/16367/southern-tier-pumk...   \n",
       "2  /homebrew/recipe/view/5920/zombie-dust-clone-e...   \n",
       "3  /homebrew/recipe/view/5916/zombie-dust-clone-a...   \n",
       "4  /homebrew/recipe/view/89534/bakke-brygg-belgis...   \n",
       "\n",
       "                                Style  StyleID  Size(L)     OG     FG   ABV  \\\n",
       "0                           Cream Ale       45    21.77  1.055  1.013  5.48   \n",
       "1  Holiday/Winter Special Spiced Beer       85    20.82  1.083  1.021  8.16   \n",
       "2                        American IPA        7    18.93  1.063  1.018  5.91   \n",
       "3                        American IPA        7    22.71  1.061  1.017  5.80   \n",
       "4                   Belgian Blond Ale       20    50.00  1.060  1.010  6.48   \n",
       "\n",
       "     IBU  ...  BoilGravity  Efficiency  MashThickness        SugarScale  \\\n",
       "0  17.65  ...        1.038        70.0            NaN  Specific Gravity   \n",
       "1  60.65  ...        1.070        70.0            NaN  Specific Gravity   \n",
       "2  59.25  ...          NaN        70.0            NaN  Specific Gravity   \n",
       "3  54.48  ...          NaN        70.0            NaN  Specific Gravity   \n",
       "4  17.84  ...        1.050        72.0            NaN  Specific Gravity   \n",
       "\n",
       "   BrewMethod  PitchRate PrimaryTemp PrimingMethod   PrimingAmount   UserId  \n",
       "0   All Grain        NaN       17.78    corn sugar          4.5 oz    116.0  \n",
       "1   All Grain        NaN         NaN           NaN             NaN    955.0  \n",
       "2     extract        NaN         NaN           NaN             NaN      NaN  \n",
       "3   All Grain        NaN         NaN           NaN             NaN      NaN  \n",
       "4   All Grain        NaN       19.00    Sukkerlake  6-7 g sukker/l  18325.0  \n",
       "\n",
       "[5 rows x 23 columns]"
      ]
     },
     "execution_count": 2,
     "metadata": {},
     "output_type": "execute_result"
    }
   ],
   "source": [
    "X = pd.read_csv(\"../data/recipeData.csv\", encoding='iso-8859-1')\n",
    "y = pd.read_csv(\"../data/styleData.csv\", encoding='iso-8859-1')\n",
    "X.head()"
   ]
  },
  {
   "cell_type": "markdown",
   "metadata": {},
   "source": [
    "## (0) Short EDA <a class=\"anchor\" id=\"eda\"></a>\n",
    "Some quick notes:\n",
    "- Missing styles have StyleID 111, which is a catch all id for missing `Style`s (as opposed to one specific style always missing)\n",
    "- Since we don't have labels for the missing values, we can't recover the distribution of missing values over `Style`s. However, we can still use the class priors from the training set as a baseline, assuming that the priors are the same for rows with missing values (which may be an incorrect assumption).\n",
    "- Imbalanced classes (Largest: American IPA, baseline to try: constant prediction)"
   ]
  },
  {
   "cell_type": "code",
   "execution_count": 3,
   "metadata": {},
   "outputs": [
    {
     "data": {
      "text/plain": [
       "<seaborn.axisgrid.FacetGrid at 0x7f9aa0b8dba8>"
      ]
     },
     "execution_count": 3,
     "metadata": {},
     "output_type": "execute_result"
    },
    {
     "data": {
      "image/png": "[encoded data removed]",
      "text/plain": [
       "<Figure size 360x360 with 1 Axes>"
      ]
     },
     "metadata": {
      "needs_background": "light"
     },
     "output_type": "display_data"
    }
   ],
   "source": [
    "g = sns.catplot(x=\"Style\", kind=\"count\", palette=\"ch:.25\", data=X,\n",
    "               order=X[\"Style\"].value_counts().iloc[:10].index)\n",
    "g.set_xticklabels(rotation=90)"
   ]
  },
  {
   "cell_type": "code",
   "execution_count": 4,
   "metadata": {},
   "outputs": [
    {
     "data": {
      "text/html": [
       "<div>\n",
       "<style scoped>\n",
       "    .dataframe tbody tr th:only-of-type {\n",
       "        vertical-align: middle;\n",
       "    }\n",
       "\n",
       "    .dataframe tbody tr th {\n",
       "        vertical-align: top;\n",
       "    }\n",
       "\n",
       "    .dataframe thead th {\n",
       "        text-align: right;\n",
       "    }\n",
       "</style>\n",
       "<table border=\"1\" class=\"dataframe\">\n",
       "  <thead>\n",
       "    <tr style=\"text-align: right;\">\n",
       "      <th></th>\n",
       "      <th>BeerID</th>\n",
       "      <th>Name</th>\n",
       "      <th>URL</th>\n",
       "      <th>Style</th>\n",
       "      <th>StyleID</th>\n",
       "      <th>Size(L)</th>\n",
       "      <th>OG</th>\n",
       "      <th>FG</th>\n",
       "      <th>ABV</th>\n",
       "      <th>IBU</th>\n",
       "      <th>...</th>\n",
       "      <th>BoilGravity</th>\n",
       "      <th>Efficiency</th>\n",
       "      <th>MashThickness</th>\n",
       "      <th>SugarScale</th>\n",
       "      <th>BrewMethod</th>\n",
       "      <th>PitchRate</th>\n",
       "      <th>PrimaryTemp</th>\n",
       "      <th>PrimingMethod</th>\n",
       "      <th>PrimingAmount</th>\n",
       "      <th>UserId</th>\n",
       "    </tr>\n",
       "  </thead>\n",
       "  <tbody>\n",
       "    <tr>\n",
       "      <th>38</th>\n",
       "      <td>39</td>\n",
       "      <td>Rochefort 8 Clone</td>\n",
       "      <td>/homebrew/recipe/view/188995/rochefort-8-clone</td>\n",
       "      <td>NaN</td>\n",
       "      <td>111</td>\n",
       "      <td>18.93</td>\n",
       "      <td>1.079</td>\n",
       "      <td>1.019</td>\n",
       "      <td>7.90</td>\n",
       "      <td>0.00</td>\n",
       "      <td>...</td>\n",
       "      <td>NaN</td>\n",
       "      <td>65.0</td>\n",
       "      <td>NaN</td>\n",
       "      <td>Specific Gravity</td>\n",
       "      <td>All Grain</td>\n",
       "      <td>NaN</td>\n",
       "      <td>NaN</td>\n",
       "      <td>NaN</td>\n",
       "      <td>NaN</td>\n",
       "      <td>NaN</td>\n",
       "    </tr>\n",
       "    <tr>\n",
       "      <th>87</th>\n",
       "      <td>88</td>\n",
       "      <td>Zatarain's Root Beer - Non-Alcoholic  keg in...</td>\n",
       "      <td>/homebrew/recipe/view/21783/zatarain-s-root-be...</td>\n",
       "      <td>NaN</td>\n",
       "      <td>111</td>\n",
       "      <td>18.93</td>\n",
       "      <td>1.046</td>\n",
       "      <td>1.013</td>\n",
       "      <td>4.27</td>\n",
       "      <td>0.00</td>\n",
       "      <td>...</td>\n",
       "      <td>1.077</td>\n",
       "      <td>100.0</td>\n",
       "      <td>NaN</td>\n",
       "      <td>Specific Gravity</td>\n",
       "      <td>BIAB</td>\n",
       "      <td>NaN</td>\n",
       "      <td>NaN</td>\n",
       "      <td>NaN</td>\n",
       "      <td>NaN</td>\n",
       "      <td>993.0</td>\n",
       "    </tr>\n",
       "    <tr>\n",
       "      <th>192</th>\n",
       "      <td>193</td>\n",
       "      <td>Hop Cliff</td>\n",
       "      <td>/homebrew/recipe/view/188896/hop-cliff</td>\n",
       "      <td>NaN</td>\n",
       "      <td>111</td>\n",
       "      <td>18.93</td>\n",
       "      <td>1.093</td>\n",
       "      <td>1.023</td>\n",
       "      <td>9.12</td>\n",
       "      <td>0.00</td>\n",
       "      <td>...</td>\n",
       "      <td>NaN</td>\n",
       "      <td>75.0</td>\n",
       "      <td>NaN</td>\n",
       "      <td>Specific Gravity</td>\n",
       "      <td>Partial Mash</td>\n",
       "      <td>NaN</td>\n",
       "      <td>NaN</td>\n",
       "      <td>NaN</td>\n",
       "      <td>NaN</td>\n",
       "      <td>NaN</td>\n",
       "    </tr>\n",
       "    <tr>\n",
       "      <th>347</th>\n",
       "      <td>348</td>\n",
       "      <td>Mosaic IPL</td>\n",
       "      <td>/homebrew/recipe/view/56751/mosaic-ipl</td>\n",
       "      <td>NaN</td>\n",
       "      <td>111</td>\n",
       "      <td>20.82</td>\n",
       "      <td>1.063</td>\n",
       "      <td>1.016</td>\n",
       "      <td>6.16</td>\n",
       "      <td>68.35</td>\n",
       "      <td>...</td>\n",
       "      <td>NaN</td>\n",
       "      <td>78.0</td>\n",
       "      <td>NaN</td>\n",
       "      <td>Specific Gravity</td>\n",
       "      <td>All Grain</td>\n",
       "      <td>2.0</td>\n",
       "      <td>10.0</td>\n",
       "      <td>NaN</td>\n",
       "      <td>NaN</td>\n",
       "      <td>15452.0</td>\n",
       "    </tr>\n",
       "    <tr>\n",
       "      <th>577</th>\n",
       "      <td>578</td>\n",
       "      <td>Nanny state</td>\n",
       "      <td>/homebrew/recipe/view/329814/nanny-state</td>\n",
       "      <td>NaN</td>\n",
       "      <td>111</td>\n",
       "      <td>20.00</td>\n",
       "      <td>1.008</td>\n",
       "      <td>1.006</td>\n",
       "      <td>0.30</td>\n",
       "      <td>55.43</td>\n",
       "      <td>...</td>\n",
       "      <td>1.006</td>\n",
       "      <td>70.0</td>\n",
       "      <td>3.0</td>\n",
       "      <td>Specific Gravity</td>\n",
       "      <td>All Grain</td>\n",
       "      <td>NaN</td>\n",
       "      <td>NaN</td>\n",
       "      <td>NaN</td>\n",
       "      <td>NaN</td>\n",
       "      <td>3053.0</td>\n",
       "    </tr>\n",
       "  </tbody>\n",
       "</table>\n",
       "<p>5 rows × 23 columns</p>\n",
       "</div>"
      ],
      "text/plain": [
       "     BeerID                                             Name  \\\n",
       "38       39                                Rochefort 8 Clone   \n",
       "87       88  Zatarain's Root Beer - Non-Alcoholic  keg in...   \n",
       "192     193                                        Hop Cliff   \n",
       "347     348                                       Mosaic IPL   \n",
       "577     578                                      Nanny state   \n",
       "\n",
       "                                                   URL Style  StyleID  \\\n",
       "38      /homebrew/recipe/view/188995/rochefort-8-clone   NaN      111   \n",
       "87   /homebrew/recipe/view/21783/zatarain-s-root-be...   NaN      111   \n",
       "192             /homebrew/recipe/view/188896/hop-cliff   NaN      111   \n",
       "347             /homebrew/recipe/view/56751/mosaic-ipl   NaN      111   \n",
       "577           /homebrew/recipe/view/329814/nanny-state   NaN      111   \n",
       "\n",
       "     Size(L)     OG     FG   ABV    IBU  ...  BoilGravity  Efficiency  \\\n",
       "38     18.93  1.079  1.019  7.90   0.00  ...          NaN        65.0   \n",
       "87     18.93  1.046  1.013  4.27   0.00  ...        1.077       100.0   \n",
       "192    18.93  1.093  1.023  9.12   0.00  ...          NaN        75.0   \n",
       "347    20.82  1.063  1.016  6.16  68.35  ...          NaN        78.0   \n",
       "577    20.00  1.008  1.006  0.30  55.43  ...        1.006        70.0   \n",
       "\n",
       "     MashThickness        SugarScale    BrewMethod  PitchRate PrimaryTemp  \\\n",
       "38             NaN  Specific Gravity     All Grain        NaN         NaN   \n",
       "87             NaN  Specific Gravity          BIAB        NaN         NaN   \n",
       "192            NaN  Specific Gravity  Partial Mash        NaN         NaN   \n",
       "347            NaN  Specific Gravity     All Grain        2.0        10.0   \n",
       "577            3.0  Specific Gravity     All Grain        NaN         NaN   \n",
       "\n",
       "    PrimingMethod  PrimingAmount   UserId  \n",
       "38            NaN            NaN      NaN  \n",
       "87            NaN            NaN    993.0  \n",
       "192           NaN            NaN      NaN  \n",
       "347           NaN            NaN  15452.0  \n",
       "577           NaN            NaN   3053.0  \n",
       "\n",
       "[5 rows x 23 columns]"
      ]
     },
     "execution_count": 4,
     "metadata": {},
     "output_type": "execute_result"
    }
   ],
   "source": [
    "X[X['Style'].isna()].head()"
   ]
  },
  {
   "cell_type": "code",
   "execution_count": 5,
   "metadata": {},
   "outputs": [
    {
     "data": {
      "text/html": [
       "<div>\n",
       "<style scoped>\n",
       "    .dataframe tbody tr th:only-of-type {\n",
       "        vertical-align: middle;\n",
       "    }\n",
       "\n",
       "    .dataframe tbody tr th {\n",
       "        vertical-align: top;\n",
       "    }\n",
       "\n",
       "    .dataframe thead th {\n",
       "        text-align: right;\n",
       "    }\n",
       "</style>\n",
       "<table border=\"1\" class=\"dataframe\">\n",
       "  <thead>\n",
       "    <tr style=\"text-align: right;\">\n",
       "      <th></th>\n",
       "      <th>Style</th>\n",
       "      <th>StyleID</th>\n",
       "    </tr>\n",
       "  </thead>\n",
       "  <tbody>\n",
       "    <tr>\n",
       "      <th>110</th>\n",
       "      <td>NaN</td>\n",
       "      <td>111</td>\n",
       "    </tr>\n",
       "  </tbody>\n",
       "</table>\n",
       "</div>"
      ],
      "text/plain": [
       "    Style  StyleID\n",
       "110   NaN      111"
      ]
     },
     "execution_count": 5,
     "metadata": {},
     "output_type": "execute_result"
    }
   ],
   "source": [
    "y[y['Style'].isna()]"
   ]
  },
  {
   "cell_type": "markdown",
   "metadata": {},
   "source": [
    "## (1) Missing Value Imputation <a class=\"anchor\" id=\"mvalimp\"></a>\n",
    "Once you've decided not to delete columns or rows to remove missing values, you have to come up with a way to impute them. In this case missing values should not be missing completely at random. That is, the probability of a value being missing is either not independent of other features or the distribution of missing values is not uniform.\n",
    "1. Mean/Median/Mode: The simplest method involves replacing missing values with the mean/mode/median of that column. The mode is typically used for categorical features and the mean or median for numerics (the median may be better if you have outliers that you have chosen not to drop/clip).\n",
    "2. Stratification: You can also cluster your data based on other features (either with an ad hoc procedure or a clustering algorithm) and fill in missing values based on the mean/median/mode of a cluster\n",
    "3. KNN: Predict missing values based on nearest neighbors\n",
    "4. Prediction: Train a classifier or regressor on rows w/o missing data\n",
    "\n",
    "(1) should work best if there is a weak relationship between missing values and other features, otherwise (3) or (4) should work better."
   ]
  },
  {
   "cell_type": "markdown",
   "metadata": {},
   "source": [
    "## (2) Recommender System <a class=\"anchor\" id=\"recosys\"></a>\n",
    "One approach would be to use item-based collaborative filtering, where we define a distance metric between recipes and recommend recipes to users that have a minimum distance to their previously submitted recipes. One way to define the distance metric is the sum of distances between features, using euclidean distance for numeric features and hamming distance for categorical ones."
   ]
  },
  {
   "cell_type": "markdown",
   "metadata": {},
   "source": [
    "## (3) Train a Model to solve (1) <a class=\"anchor\" id=\"train\"></a>\n"
   ]
  },
  {
   "cell_type": "code",
   "execution_count": 6,
   "metadata": {},
   "outputs": [
    {
     "data": {
      "text/plain": [
       "BeerID           0.000000\n",
       "Name             0.000014\n",
       "URL              0.000000\n",
       "Style            0.008069\n",
       "StyleID          0.000000\n",
       "Size(L)          0.000000\n",
       "OG               0.000000\n",
       "FG               0.000000\n",
       "ABV              0.000000\n",
       "IBU              0.000000\n",
       "Color            0.000000\n",
       "BoilSize         0.000000\n",
       "BoilTime         0.000000\n",
       "BoilGravity      0.040481\n",
       "Efficiency       0.000000\n",
       "MashThickness    0.404327\n",
       "SugarScale       0.000000\n",
       "BrewMethod       0.000000\n",
       "PitchRate        0.531431\n",
       "PrimaryTemp      0.306820\n",
       "PrimingMethod    0.908395\n",
       "PrimingAmount    0.935365\n",
       "UserId           0.683581\n",
       "dtype: float64"
      ]
     },
     "execution_count": 6,
     "metadata": {},
     "output_type": "execute_result"
    }
   ],
   "source": [
    "X.isna().sum() / (X.count() + X.isna().sum())"
   ]
  },
  {
   "cell_type": "markdown",
   "metadata": {},
   "source": [
    "### Feature Selection\n",
    "Due to time constraints, we will just build a baseline classifier, dropping Ids, text fields, and non-standardized fields (viz. 'PrimingMethod' and 'PrimingAmount'), as well as features with nulls. We will assume that fields without nulls are enforced to not have nulls by the form that clients submit and will respond with a message declaring an invalid input if they are null in test/production."
   ]
  },
  {
   "cell_type": "code",
   "execution_count": 7,
   "metadata": {},
   "outputs": [
    {
     "data": {
      "text/html": [
       "<div>\n",
       "<style scoped>\n",
       "    .dataframe tbody tr th:only-of-type {\n",
       "        vertical-align: middle;\n",
       "    }\n",
       "\n",
       "    .dataframe tbody tr th {\n",
       "        vertical-align: top;\n",
       "    }\n",
       "\n",
       "    .dataframe thead th {\n",
       "        text-align: right;\n",
       "    }\n",
       "</style>\n",
       "<table border=\"1\" class=\"dataframe\">\n",
       "  <thead>\n",
       "    <tr style=\"text-align: right;\">\n",
       "      <th></th>\n",
       "      <th>Style</th>\n",
       "      <th>StyleID</th>\n",
       "      <th>Size(L)</th>\n",
       "      <th>OG</th>\n",
       "      <th>FG</th>\n",
       "      <th>ABV</th>\n",
       "      <th>IBU</th>\n",
       "      <th>Color</th>\n",
       "      <th>BoilSize</th>\n",
       "      <th>BoilTime</th>\n",
       "      <th>Efficiency</th>\n",
       "      <th>SugarScale</th>\n",
       "      <th>BrewMethod</th>\n",
       "    </tr>\n",
       "  </thead>\n",
       "  <tbody>\n",
       "    <tr>\n",
       "      <th>0</th>\n",
       "      <td>Cream Ale</td>\n",
       "      <td>45</td>\n",
       "      <td>21.77</td>\n",
       "      <td>1.055</td>\n",
       "      <td>1.013</td>\n",
       "      <td>5.48</td>\n",
       "      <td>17.65</td>\n",
       "      <td>4.83</td>\n",
       "      <td>28.39</td>\n",
       "      <td>75</td>\n",
       "      <td>70.0</td>\n",
       "      <td>Specific Gravity</td>\n",
       "      <td>All Grain</td>\n",
       "    </tr>\n",
       "    <tr>\n",
       "      <th>1</th>\n",
       "      <td>Holiday/Winter Special Spiced Beer</td>\n",
       "      <td>85</td>\n",
       "      <td>20.82</td>\n",
       "      <td>1.083</td>\n",
       "      <td>1.021</td>\n",
       "      <td>8.16</td>\n",
       "      <td>60.65</td>\n",
       "      <td>15.64</td>\n",
       "      <td>24.61</td>\n",
       "      <td>60</td>\n",
       "      <td>70.0</td>\n",
       "      <td>Specific Gravity</td>\n",
       "      <td>All Grain</td>\n",
       "    </tr>\n",
       "    <tr>\n",
       "      <th>2</th>\n",
       "      <td>American IPA</td>\n",
       "      <td>7</td>\n",
       "      <td>18.93</td>\n",
       "      <td>1.063</td>\n",
       "      <td>1.018</td>\n",
       "      <td>5.91</td>\n",
       "      <td>59.25</td>\n",
       "      <td>8.98</td>\n",
       "      <td>22.71</td>\n",
       "      <td>60</td>\n",
       "      <td>70.0</td>\n",
       "      <td>Specific Gravity</td>\n",
       "      <td>extract</td>\n",
       "    </tr>\n",
       "    <tr>\n",
       "      <th>3</th>\n",
       "      <td>American IPA</td>\n",
       "      <td>7</td>\n",
       "      <td>22.71</td>\n",
       "      <td>1.061</td>\n",
       "      <td>1.017</td>\n",
       "      <td>5.80</td>\n",
       "      <td>54.48</td>\n",
       "      <td>8.50</td>\n",
       "      <td>26.50</td>\n",
       "      <td>60</td>\n",
       "      <td>70.0</td>\n",
       "      <td>Specific Gravity</td>\n",
       "      <td>All Grain</td>\n",
       "    </tr>\n",
       "    <tr>\n",
       "      <th>4</th>\n",
       "      <td>Belgian Blond Ale</td>\n",
       "      <td>20</td>\n",
       "      <td>50.00</td>\n",
       "      <td>1.060</td>\n",
       "      <td>1.010</td>\n",
       "      <td>6.48</td>\n",
       "      <td>17.84</td>\n",
       "      <td>4.57</td>\n",
       "      <td>60.00</td>\n",
       "      <td>90</td>\n",
       "      <td>72.0</td>\n",
       "      <td>Specific Gravity</td>\n",
       "      <td>All Grain</td>\n",
       "    </tr>\n",
       "  </tbody>\n",
       "</table>\n",
       "</div>"
      ],
      "text/plain": [
       "                                Style  StyleID  Size(L)     OG     FG   ABV  \\\n",
       "0                           Cream Ale       45    21.77  1.055  1.013  5.48   \n",
       "1  Holiday/Winter Special Spiced Beer       85    20.82  1.083  1.021  8.16   \n",
       "2                        American IPA        7    18.93  1.063  1.018  5.91   \n",
       "3                        American IPA        7    22.71  1.061  1.017  5.80   \n",
       "4                   Belgian Blond Ale       20    50.00  1.060  1.010  6.48   \n",
       "\n",
       "     IBU  Color  BoilSize  BoilTime  Efficiency        SugarScale BrewMethod  \n",
       "0  17.65   4.83     28.39        75        70.0  Specific Gravity  All Grain  \n",
       "1  60.65  15.64     24.61        60        70.0  Specific Gravity  All Grain  \n",
       "2  59.25   8.98     22.71        60        70.0  Specific Gravity    extract  \n",
       "3  54.48   8.50     26.50        60        70.0  Specific Gravity  All Grain  \n",
       "4  17.84   4.57     60.00        90        72.0  Specific Gravity  All Grain  "
      ]
     },
     "execution_count": 7,
     "metadata": {},
     "output_type": "execute_result"
    }
   ],
   "source": [
    "to_drop = ['BeerID', 'PrimingMethod', 'PrimingAmount', 'URL', 'UserId', 'Name']\n",
    "has_null = ['MashThickness', 'BoilGravity', 'PitchRate', 'PrimaryTemp']\n",
    "X.drop(labels=to_drop+has_null, axis=1, inplace=True)\n",
    "X.head()"
   ]
  },
  {
   "cell_type": "markdown",
   "metadata": {},
   "source": [
    "#### Convert Categoricals\n",
    "We will one-hot encode `SugarScale` and `BrewMethod` because they have a small number of levels and have no natural ordering."
   ]
  },
  {
   "cell_type": "code",
   "execution_count": 8,
   "metadata": {},
   "outputs": [],
   "source": [
    "X = pd.get_dummies(X, columns=['SugarScale','BrewMethod'])"
   ]
  },
  {
   "cell_type": "markdown",
   "metadata": {},
   "source": [
    "#### Split train & test"
   ]
  },
  {
   "cell_type": "code",
   "execution_count": 9,
   "metadata": {},
   "outputs": [],
   "source": [
    "train = X[X['Style'].notna()]\n",
    "# rows with missing style are useless for training and eval\n",
    "# with_null_style = X[X['Style'].isna()]\n",
    "x_train = train.drop(['Style', 'StyleID'], axis=1)\n",
    "y_train = train['StyleID']\n",
    "# we'll use k-fold cv in GridSearch and test on x_test, y_test\n",
    "x_train, x_test, y_train, y_test = train_test_split(x_train, y_train, random_state=7)"
   ]
  },
  {
   "cell_type": "markdown",
   "metadata": {},
   "source": [
    "### Baseline Dummy Classifiers"
   ]
  },
  {
   "cell_type": "code",
   "execution_count": 10,
   "metadata": {},
   "outputs": [
    {
     "name": "stdout",
     "output_type": "stream",
     "text": [
      "stratified: 0.045570357428841815, 0.04323852159196375\n",
      "most_frequent: 0.1638276188396302, 0.1603974449964514\n",
      "uniform: 0.005641697605008372, 0.006442102964459246\n"
     ]
    }
   ],
   "source": [
    "strat = DummyClassifier(strategy=\"stratified\")\n",
    "mf = DummyClassifier(strategy=\"most_frequent\")\n",
    "uni = DummyClassifier(strategy=\"uniform\")\n",
    "for name, clf in [(\"stratified\", strat), (\"most_frequent\", mf), (\"uniform\", uni)]:\n",
    "    clf.fit(x_train, y_train)\n",
    "    print(f\"{name}: {clf.score(x_train,y_train)}, {clf.score(x_test,y_test)}\")"
   ]
  },
  {
   "cell_type": "markdown",
   "metadata": {},
   "source": [
    "### RandomForest"
   ]
  },
  {
   "cell_type": "code",
   "execution_count": 11,
   "metadata": {},
   "outputs": [
    {
     "name": "stderr",
     "output_type": "stream",
     "text": [
      "/home/alec/proj/takehomes/pager/env/lib/python3.6/site-packages/sklearn/model_selection/_split.py:1978: FutureWarning: The default value of cv will change from 3 to 5 in version 0.22. Specify it explicitly to silence this warning.\n",
      "  warnings.warn(CV_WARNING, FutureWarning)\n",
      "/home/alec/proj/takehomes/pager/env/lib/python3.6/site-packages/sklearn/model_selection/_split.py:657: Warning: The least populated class in y has only 2 members, which is too few. The minimum number of members in any class cannot be less than n_splits=3.\n",
      "  % (min_groups, self.n_splits)), Warning)\n"
     ]
    },
    {
     "data": {
      "text/plain": [
       "(0.8364999636019509,\n",
       " 0.35759130862040733,\n",
       " {'min_samples_split': 10, 'n_estimators': 500})"
      ]
     },
     "execution_count": 11,
     "metadata": {},
     "output_type": "execute_result"
    }
   ],
   "source": [
    "rf = RandomForestClassifier(random_state=7, n_jobs=-1)\n",
    "# param grids are reduced from previous hparam searches\n",
    "# this model is quite large with 500 estimators and may need to be shrunk\n",
    "# depending on memory constraints we may want to impose\n",
    "params = {'n_estimators': [500],\n",
    "         'min_samples_split': [10]}\n",
    "best_rf = GridSearchCV(rf, param_grid=params, scoring=['f1_micro', 'accuracy'], refit='f1_micro')\n",
    "best_rf.fit(x_train, y_train)\n",
    "best_rf.score(x_train, y_train), best_rf.score(x_test, y_test), best_rf.best_params_"
   ]
  },
  {
   "cell_type": "markdown",
   "metadata": {},
   "source": [
    " #### Random Forest Classifier Results\n",
    " (Train F1 micro, Test F1 micro, Params)\n",
    " \n",
    "(0.8364999636019509,\n",
    " 0.3575913086204073,\n",
    " {'min_samples_split': 10, 'n_estimators': 500})"
   ]
  },
  {
   "cell_type": "markdown",
   "metadata": {},
   "source": [
    "### KNN"
   ]
  },
  {
   "cell_type": "code",
   "execution_count": 12,
   "metadata": {},
   "outputs": [
    {
     "name": "stderr",
     "output_type": "stream",
     "text": [
      "/home/alec/proj/takehomes/pager/env/lib/python3.6/site-packages/sklearn/model_selection/_split.py:1978: FutureWarning: The default value of cv will change from 3 to 5 in version 0.22. Specify it explicitly to silence this warning.\n",
      "  warnings.warn(CV_WARNING, FutureWarning)\n",
      "/home/alec/proj/takehomes/pager/env/lib/python3.6/site-packages/sklearn/model_selection/_split.py:657: Warning: The least populated class in y has only 2 members, which is too few. The minimum number of members in any class cannot be less than n_splits=3.\n",
      "  % (min_groups, self.n_splits)), Warning)\n"
     ]
    },
    {
     "data": {
      "text/plain": [
       "(0.3411407148576836, 0.31189605284708194, {'n_neighbors': 50})"
      ]
     },
     "execution_count": 12,
     "metadata": {},
     "output_type": "execute_result"
    }
   ],
   "source": [
    "knn = KNeighborsClassifier(n_jobs=-1)\n",
    "# param grids are reduced from previous hparam searches\n",
    "params = {'n_neighbors': [50]}\n",
    "best_knn = GridSearchCV(knn, param_grid=params, scoring=['f1_micro', 'accuracy'], refit='f1_micro')\n",
    "\n",
    "# Subtract mean and divide by stddev for knn, since it is sensitive to feat scales\n",
    "scaler = StandardScaler()\n",
    "x_train_scaled = scaler.fit_transform(x_train)\n",
    "\n",
    "best_knn.fit(x_train_scaled, y_train)\n",
    "best_knn.score(x_train_scaled, y_train), best_knn.score(scaler.transform(x_test), y_test), best_knn.best_params_"
   ]
  },
  {
   "cell_type": "markdown",
   "metadata": {},
   "source": [
    "#### KNN Results\n",
    "Standard scaled Feats:\n",
    "(0.3411407148576836, 0.31189605284708194, {'n_neighbors': 50})\n",
    "\n",
    "Unscaled feats:\n",
    "(0.3070539419087137, 0.2755363869629306, {'n_neighbors': 50})"
   ]
  },
  {
   "cell_type": "markdown",
   "metadata": {},
   "source": [
    "### Ensemble of previous models\n",
    "Quick check to see if previous models performed well on different subsets of the dataset. Performance decreased, so I left the code block out."
   ]
  },
  {
   "cell_type": "markdown",
   "metadata": {},
   "source": [
    "### Recap & Further Iteration\n",
    "I suspect that utilizing the `Name` field will be the largest improvement to be made in this model. A simple approach would be to just use tfidf scores as features, perhaps with lemmatization & stemming. Another method with a similar justification would be to extract sentence vectors for the `Name` field as well as the `Style` field and train a small classifier to predict the `Style` sentence vector given the `Name` sentence vector.\n",
    "\n",
    "It may also be helpful to look more into unstructured fields like `PrimingAmount` and try to extract categorical variables from common values.\n",
    "\n",
    "The random forest model is also massively overfitting, so trying to regularize that model more would be worthwhile. Simple methods such as reducing number of estimators and capping the max depth of trees decrease test accuracy."
   ]
  },
  {
   "cell_type": "markdown",
   "metadata": {},
   "source": [
    "## (4) System Design <a class=\"anchor\" id=\"sysdes\"></a>\n",
    "Possible Approaches:\n",
    "1. Direct Integration into Client Application\n",
    "2. Message queue integration\n",
    "3. Web Service API\n",
    "\n",
    "Direct Integration into the Client Application requires sending, storing and running the model on the client side, where resources and compute may be sparse. Although our the knn model is relatively small, the rf model can be multiple GB with ~500 estimators. I've only used this type of deployment for data privacy reasons, which does not apply here.\n",
    "\n",
    "Message queue integration is best for services that can be run asynchronously and only require near-real-time prediction.\n",
    "\n",
    "Because our model does not perform extraordinarily well, it may be best used to serve suggestions to the user from which they can select the correct `Style`, to avoid inserting incorrect data into the db.\n",
    "\n",
    "Therefore the Pub/sub integration simplifies the sequence flow and allows model predictions to be performed in the background, but the webservice api may reduce the impact of bad predictions by allowing a human-in-the-loop.\n",
    "\n",
    "I will implement the Webservice api here as a Proof-of-concept and because I have no access to a message queue. The service will accept requests that contain values for all `features` defined below and will respond with a defined value for `prediction`. "
   ]
  },
  {
   "cell_type": "markdown",
   "metadata": {},
   "source": [
    "### Serialize best model"
   ]
  },
  {
   "cell_type": "code",
   "execution_count": 15,
   "metadata": {},
   "outputs": [],
   "source": [
    "with open(\"../assets/rf_model.pk\", \"wb\") as model_file:\n",
    "    joblib.dump(best_rf, model_file)"
   ]
  },
  {
   "cell_type": "markdown",
   "metadata": {},
   "source": [
    "### Serialize feature list"
   ]
  },
  {
   "cell_type": "code",
   "execution_count": 14,
   "metadata": {},
   "outputs": [
    {
     "data": {
      "text/plain": [
       "['Size(L)',\n",
       " 'OG',\n",
       " 'FG',\n",
       " 'ABV',\n",
       " 'IBU',\n",
       " 'Color',\n",
       " 'BoilSize',\n",
       " 'BoilTime',\n",
       " 'Efficiency',\n",
       " 'SugarScale_Plato',\n",
       " 'SugarScale_Specific Gravity',\n",
       " 'BrewMethod_All Grain',\n",
       " 'BrewMethod_BIAB',\n",
       " 'BrewMethod_Partial Mash',\n",
       " 'BrewMethod_extract']"
      ]
     },
     "execution_count": 14,
     "metadata": {},
     "output_type": "execute_result"
    }
   ],
   "source": [
    "features = [feat for feat in x_train.columns if feat not in set(has_null+to_drop)]\n",
    "with open(\"../assets/feat_list.pk\", \"wb\") as feat_list_file:\n",
    "    joblib.dump(features, feat_list_file)\n",
    "features"
   ]
  },
  {
   "cell_type": "markdown",
   "metadata": {},
   "source": [
    "## (5) API <a class=\"anchor\" id=\"dep\"></a>\n",
    "The api is defined as a flask application in `src/api.py`. Tests of the api can be run from `test/test_api.py`."
   ]
  }
 ],
 "metadata": {
  "kernelspec": {
   "display_name": "Python 3",
   "language": "python",
   "name": "python3"
  },
  "language_info": {
   "codemirror_mode": {
    "name": "ipython",
    "version": 3
   },
   "file_extension": ".py",
   "mimetype": "text/x-python",
   "name": "python",
   "nbconvert_exporter": "python",
   "pygments_lexer": "ipython3",
   "version": "3.6.8"
  }
 },
 "nbformat": 4,
 "nbformat_minor": 2
}
